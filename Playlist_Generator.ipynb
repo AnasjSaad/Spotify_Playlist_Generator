{
 "cells": [
  {
   "cell_type": "markdown",
   "metadata": {},
   "source": [
    "**Libraries**"
   ]
  },
  {
   "cell_type": "code",
   "execution_count": null,
   "metadata": {},
   "outputs": [],
   "source": [
    "import spotipy\n",
    "import spotipy.util as util\n",
    "from spotipy.oauth2 import SpotifyClientCredentials\n",
    "import spotipy.oauth2 as oauth2\n",
    "import pandas as pd\n",
    "import numpy as np\n",
    "import json\n",
    "import matplotlib.pyplot as plt\n",
    "import seaborn as sns\n",
    "%config InlineBackend.figure_format ='retina'\n",
    "import random\n",
    "from functools import reduce\n",
    "from sklearn.ensemble import RandomForestRegressor\n",
    "from datetime import date\n",
    "import time"
   ]
  },
  {
   "cell_type": "markdown",
   "metadata": {},
   "source": [
    "**Spotify API Call**"
   ]
  },
  {
   "cell_type": "code",
   "execution_count": null,
   "metadata": {},
   "outputs": [],
   "source": [
    "#used for inserting your username and credentials that you can obtain from spotify developer\n",
    "client_id= '401f60a70e6a496185c36ede2b49d88a'\n",
    "client_secret= 'c49a4bfe7e224ff3aa774a7e7b4eacba'\n",
    "\n",
    "redirect_uri='http://localhost:8910/callback'\n",
    "username= '236hv7ck8vhp8u4btj9bn0261'\n",
    "\n",
    "scope = 'user-top-read'\n"
   ]
  },
  {
   "cell_type": "code",
   "execution_count": null,
   "metadata": {},
   "outputs": [],
   "source": [
    "client_credentials_manager = SpotifyClientCredentials(client_id=client_id, \n",
    "                                                      client_secret=client_secret)\n",
    "                                                      \n",
    "sp = spotipy.Spotify(client_credentials_manager = client_credentials_manager)\n",
    "\n",
    "token = util.prompt_for_user_token(username,scope, client_id, client_secret, redirect_uri)\n",
    "\n",
    "if token:\n",
    "    sp = spotipy.Spotify(auth=token)\n",
    "else:\n",
    "    print(\"Can't get token for\", username)"
   ]
  },
  {
   "cell_type": "markdown",
   "metadata": {},
   "source": [
    "**Extract Top Tracks**"
   ]
  },
  {
   "cell_type": "code",
   "execution_count": null,
   "metadata": {},
   "outputs": [],
   "source": [
    "results = sp.current_user_top_tracks(limit=50, offset=0,time_range='short_term')\n",
    "results"
   ]
  },
  {
   "cell_type": "code",
   "execution_count": null,
   "metadata": {},
   "outputs": [],
   "source": [
    "results = sp.current_user_top_tracks(limit=50, offset=0,time_range='short_term')\n",
    "\n",
    "# Convert the results into a dataframe\n",
    "\n",
    "track_name=[]\n",
    "track_id=[]\n",
    "artist=[]\n",
    "new=[]\n",
    "album=[]\n",
    "duration=[]\n",
    "popularity=[]\n",
    "\n",
    "for i, items in enumerate()"
   ]
  },
  {
   "cell_type": "code",
   "execution_count": null,
   "metadata": {},
   "outputs": [],
   "source": [
    "print('hello')"
   ]
  },
  {
   "cell_type": "code",
   "execution_count": null,
   "metadata": {},
   "outputs": [],
   "source": []
  }
 ],
 "metadata": {
  "kernelspec": {
   "display_name": "Python 3",
   "language": "python",
   "name": "python3"
  },
  "language_info": {
   "codemirror_mode": {
    "name": "ipython",
    "version": 3
   },
   "file_extension": ".py",
   "mimetype": "text/x-python",
   "name": "python",
   "nbconvert_exporter": "python",
   "pygments_lexer": "ipython3",
   "version": "3.8.5"
  }
 },
 "nbformat": 4,
 "nbformat_minor": 4
}
