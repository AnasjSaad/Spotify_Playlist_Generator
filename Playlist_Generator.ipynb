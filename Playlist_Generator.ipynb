{
 "cells": [
  {
   "cell_type": "markdown",
   "metadata": {},
   "source": [
    "**Libraries**"
   ]
  },
  {
   "cell_type": "code",
   "execution_count": null,
   "metadata": {},
   "outputs": [],
   "source": [
    "import spotipy\n",
    "import spotipy.util as util\n",
    "from spotipy.oauth2 import SpotifyClientCredentials\n",
    "import spotipy.oauth2 as oauth2\n",
    "import pandas as pd\n",
    "import numpy as np\n",
    "import json\n",
    "import matplotlib.pyplot as plt\n",
    "import seaborn as sns \n",
    "%config InlineBackend.figure_format ='retina'\n",
    "import random\n",
    "from functools import reduce\n",
    "from sklearn.ensemble import RandomForestRegressor\n",
    "from datetime import date\n",
    "import time"
   ]
  },
  {
   "cell_type": "markdown",
   "metadata": {},
   "source": [
    "**Spotify API Call**"
   ]
  },
  {
   "cell_type": "code",
   "execution_count": null,
   "metadata": {},
   "outputs": [],
   "source": [
    "#used for inserting your username and credentials that you can obtain from spotify developer\n",
    "client_id= 'ebbb035aedf7428cbdbbd6dd31df89a8'\n",
    "client_secret= '394032044ced4d8e9df0f9d435f88794'\n",
    "\n",
    "redirect_uri='http://localhost:8910/callback'\n",
    "username='224qqnsvbhlau4fhtpl4wpogi'\n",
    "\n",
    "scope ='user-top-read'\n"
   ]
  },
  {
   "cell_type": "code",
   "execution_count": null,
   "metadata": {},
   "outputs": [],
   "source": [
    "client_credentials_manager = SpotifyClientCredentials(client_id=client_id, \n",
    "                                                      client_secret=client_secret)\n",
    "                                                      \n",
    "sp = spotipy.Spotify(client_credentials_manager = client_credentials_manager)\n",
    "\n",
    "token = util.prompt_for_user_token(username,scope, client_id, client_secret, redirect_uri)\n",
    "\n",
    "if token:\n",
    "    sp = spotipy.Spotify(auth=token)\n",
    "else:\n",
    "    print(\"Can't get token for\", username)"
   ]
  },
  {
   "cell_type": "markdown",
   "metadata": {},
   "source": [
    "**Extract Top Tracks**"
   ]
  },
  {
   "cell_type": "code",
   "execution_count": null,
   "metadata": {},
   "outputs": [],
   "source": [
    "results = sp.current_user_top_tracks(limit=50, offset=0,time_range='long_term')\n",
    "\n",
    "# Convert the results into a dataframe\n",
    "\n",
    "track_name=[]\n",
    "track_id=[]\n",
    "artist=[]\n",
    "new=[]\n",
    "album=[]\n",
    "duration=[]\n",
    "popularity=[]\n",
    "\n",
    "for i, items in enumerate(results['items']):\n",
    "        track_name.append(items['name'])\n",
    "        track_id.append(items['id'])\n",
    "        artist.append(items[\"artists\"][0][\"name\"])\n",
    "        duration.append(items[\"duration_ms\"])\n",
    "        album.append(items[\"album\"][\"name\"])\n",
    "        popularity.append(items[\"popularity\"])\n",
    "\n",
    "# Create the final df   \n",
    "df_top_tracks = pd.DataFrame({ \"track_name\": track_name, \n",
    "                             \"album\": album, \n",
    "                             \"track_id\": track_id,\n",
    "                             \"artist\": artist, \n",
    "                             \"duration\": duration, \n",
    "                             \"popularity\": popularity})\n",
    "\n",
    "df_top_tracks"
   ]
  },
  {
   "cell_type": "markdown",
   "metadata": {},
   "source": [
    "**Feature Extraction**"
   ]
  },
  {
   "cell_type": "code",
   "execution_count": null,
   "metadata": {},
   "outputs": [],
   "source": [
    "def get_features(sp,df):\n",
    "    playlist = df[['track_id','track_name']]\n",
    "    features = []\n",
    "    \n",
    "    features += sp.audio_features(playlist.iloc[0:50, 0])\n",
    "\n",
    "    feature_list = []\n",
    "    for feature in features:\n",
    "        feature_list.append([feature['danceability'],\n",
    "                        feature['energy'],\n",
    "                        feature['key'],\n",
    "                        feature['loudness'],\n",
    "                        feature['mode'],\n",
    "                        feature['speechiness'],\n",
    "                        feature['acousticness'],\n",
    "                        feature['instrumentalness'],\n",
    "                        feature['liveness'],\n",
    "                        feature['valence'],\n",
    "                        feature['tempo'],\n",
    "                        feature['duration_ms']]\n",
    "                       )\n",
    "\n",
    "    df_audio_feature = pd.DataFrame(feature_list, columns = ['danceability', 'energy', 'key', 'loudness', 'mode', 'speechiness', \n",
    "                                                          'acousticness', 'instrumentalness', 'liveness', 'valence', 'tempo',\n",
    "                                                          'duration_ms'])\n",
    "    df_playlist_audio_features = pd.concat([playlist, df_audio_feature], axis=1)\n",
    "    return df_playlist_audio_features"
   ]
  },
  {
   "cell_type": "code",
   "execution_count": null,
   "metadata": {},
   "outputs": [],
   "source": [
    "df_final_features = get_features(sp,df_top_tracks)\n",
    "#Drop the mode feature as it is binary\n",
    "del df_final_features['mode']\n",
    "df_final_features"
   ]
  },
  {
   "cell_type": "markdown",
   "metadata": {},
   "source": [
    "We can take a look at the frequency of the values present in each feature."
   ]
  },
  {
   "cell_type": "code",
   "execution_count": null,
   "metadata": {},
   "outputs": [],
   "source": [
    "df_final_features.hist(figsize=(35,25)) \n",
    "plt.tight_layout()\n",
    "plt.show()"
   ]
  },
  {
   "cell_type": "markdown",
   "metadata": {},
   "source": [
    "I will now take all my built up playlist to then create one complilation of the best songs using the features provided. "
   ]
  },
  {
   "cell_type": "markdown",
   "metadata": {},
   "source": [
    "** User PLaylist Extraction **"
   ]
  },
  {
   "cell_type": "code",
   "execution_count": null,
   "metadata": {},
   "outputs": [],
   "source": [
    "def user_playlist(sp,username):\n",
    "    playlist_id = []\n",
    "    playlist_name = []\n",
    "    num_tracks = []\n",
    "    \n",
    "    featured = sp.user_playlists(username)\n",
    "    for i, items in enumerate(featured['items']):\n",
    "        playlist_id.append(items['id'])\n",
    "        playlist_name.append(items['name'])\n",
    "        num_tracks.append(items['tracks']['total'])\n",
    "    \n",
    "    df_your_lib = pd.DataFrame({'playlist_id':playlist_id, 'playlist_name':playlist_name, '#tracks': num_tracks})\n",
    "    return df_your_lib"
   ]
  },
  {
   "cell_type": "code",
   "execution_count": null,
   "metadata": {},
   "outputs": [],
   "source": [
    "df_user_playlists = user_playlist(sp,username)\n",
    "searchfor = ['Custom', 'Discover']\n",
    "df_user_playlists =  df_user_playlists[~df_user_playlists['playlist_name'].str.contains('|'.join(searchfor))]\n",
    "df_user_playlists"
   ]
  },
  {
   "cell_type": "markdown",
   "metadata": {},
   "source": [
    "I dont have many custom playlists, so i will manually add playlists that I enjoy as well as remove any playlist that doesnt have more than 10 songs to ensure we have sufficient data. "
   ]
  },
  {
   "cell_type": "code",
   "execution_count": null,
   "metadata": {},
   "outputs": [],
   "source": [
    "#df_user_playlists= df_user_playlists.drop(df_user_playlists.index[1])\n",
    "\n",
    "listOfSeries = [pd.Series(['1QnKkNOpY8jPDIUT4oulDH', 'Nida recomendations', 60], index=df_user_playlists.columns ) ,\n",
    "                pd.Series(['2XH7v4B8Tf9D4UYJPxtJlX', 'throwback', 279], index=df_user_playlists.columns ) ,\n",
    "                pd.Series(['4JbURQJ0cA9Go65G0JmBq8', 'train', 20], index=df_user_playlists.columns ) ]\n",
    "\n",
    "\n",
    "df_user_playlists= df_user_playlists.append(listOfSeries , ignore_index=True)\n",
    "\n",
    "df_user_playlists.drop( df_user_playlists[ df_user_playlists['#tracks']<10 ].index , inplace=True)\n",
    "df_user_playlists"
   ]
  },
  {
   "cell_type": "markdown",
   "metadata": {},
   "source": [
    "Now that my list of playlists has been made, we can extract the tracks from each playlist to analyze them to single out the best ones. It would be interesting to test this out on an account with many more playlists than I do. But we will go on with what we have."
   ]
  },
  {
   "cell_type": "markdown",
   "metadata": {},
   "source": [
    "**Fetching tracks for each playlist**"
   ]
  },
  {
   "cell_type": "code",
   "execution_count": null,
   "metadata": {},
   "outputs": [],
   "source": [
    "def get_playlist_tracks(sp, playlist_id):\n",
    "    tracks = []\n",
    "    offset = 0\n",
    "    while True:\n",
    "        track_list = sp.playlist_tracks(playlist_id, fields = None, limit = 100, offset = offset, market = None)\n",
    "        tracks += track_list['items']\n",
    "        \n",
    "        if track_list['next'] is not None:\n",
    "            offset +=100\n",
    "        else:\n",
    "            break\n",
    "            \n",
    "    track_id = []\n",
    "    track_name = []\n",
    "    \n",
    "    try:\n",
    "        for track in tracks:\n",
    "            track_id.append(track['track']['id'])\n",
    "            track_name.append(track['track']['name'])\n",
    "    except:\n",
    "            pass\n",
    "    \n",
    "    df_playlist_tracks = pd.DataFrame({'track_id':track_id, 'track_name': track_name})\n",
    "    return df_playlist_tracks"
   ]
  },
  {
   "cell_type": "code",
   "execution_count": null,
   "metadata": {},
   "outputs": [],
   "source": [
    "#test the function\n",
    "get_playlist_tracks(sp, '1S455AG3UORA5W0HPZZmlI')"
   ]
  },
  {
   "cell_type": "markdown",
   "metadata": {},
   "source": [
    "**Get audio features within a playlist**"
   ]
  },
  {
   "cell_type": "code",
   "execution_count": null,
   "metadata": {},
   "outputs": [],
   "source": [
    "def get_audio_features(sp, playlist_id):\n",
    "    playlist = get_playlist_tracks(sp, playlist_id)\n",
    "    audio_features = []\n",
    "    \n",
    "    for i in range(len(playlist)):\n",
    "        try:\n",
    "            audio_features.append(sp.audio_features(playlist['track_id'][i]))\n",
    "        except:\n",
    "            pass\n",
    "             \n",
    "print(audio_features)            \n",
    "    feature_list = []\n",
    "    for feature in audio_features:\n",
    "        try:\n",
    "            feature_list.append([feature[0]['danceability'],\n",
    "                            feature[0]['energy'],\n",
    "                            feature[0]['key'],\n",
    "                            feature[0]['loudness'],\n",
    "                            feature[0]['speechiness'],\n",
    "                            feature[0]['acousticness'],\n",
    "                            feature[0]['instrumentalness'],\n",
    "                            feature[0]['liveness'],\n",
    "                            feature[0]['valence'],\n",
    "                            feature[0]['tempo'],\n",
    "                            feature[0]['duration_ms']]\n",
    "                               )\n",
    "        except:\n",
    "            pass\n",
    "\n",
    "    df_audio_feature = pd.DataFrame(feature_list, columns = ['danceability', 'energy', 'key', 'loudness', 'speechiness', \n",
    "                                                          'acousticness', 'instrumentalness', 'liveness', 'valence', 'tempo',\n",
    "                                                          'duration_ms'])\n",
    "    df_playlist_audio_features = pd.concat([playlist, df_audio_feature], axis=1)\n",
    "    df_playlist_audio_features = df_playlist_audio_features.dropna()\n",
    "    return df_playlist_audio_features"
   ]
  },
  {
   "cell_type": "code",
   "execution_count": null,
   "metadata": {},
   "outputs": [],
   "source": [
    "def get_audio_features_mean (sp, playlist_id):\n",
    "    playlist = get_audio_features(sp, playlist_id)\n",
    "    df_mean_playlist = pd.DataFrame(playlist.mean(),columns = [playlist_id])\n",
    "    return df_mean_playlist"
   ]
  },
  {
   "cell_type": "code",
   "execution_count": null,
   "metadata": {},
   "outputs": [],
   "source": [
    "dataframes = []\n",
    "for i in df_user_playlists['playlist_id']:\n",
    "    dataframes.append(get_audio_features_mean(sp, i))\n",
    "    \n",
    "dataframes"
   ]
  },
  {
   "cell_type": "code",
   "execution_count": null,
   "metadata": {},
   "outputs": [],
   "source": []
  }
 ],
 "metadata": {
  "kernelspec": {
   "display_name": "Python 3",
   "language": "python",
   "name": "python3"
  },
  "language_info": {
   "codemirror_mode": {
    "name": "ipython",
    "version": 3
   },
   "file_extension": ".py",
   "mimetype": "text/x-python",
   "name": "python",
   "nbconvert_exporter": "python",
   "pygments_lexer": "ipython3",
   "version": "3.8.5"
  }
 },
 "nbformat": 4,
 "nbformat_minor": 4
}
